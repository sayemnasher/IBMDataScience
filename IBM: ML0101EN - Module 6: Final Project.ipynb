{
    "cells": [
        {
            "cell_type": "markdown",
            "metadata": {
                "button": false,
                "new_sheet": false,
                "run_control": {
                    "read_only": false
                }
            },
            "source": "<center>\n    <img src=\"https://s3-api.us-geo.objectstorage.softlayer.net/cf-courses-data/CognitiveClass/Logos/organization_logo/organization_logo.png\" width=\"300\" alt=\"cognitiveclass.ai logo\"  />\n</center>\n\n# Classification with Python\n\nEstimated time needed: **25** minutes\n\n## Objectives\n\nAfter completing this lab you will be able to:\n\n-   Confidently create classification models\n"
        },
        {
            "cell_type": "markdown",
            "metadata": {
                "button": false,
                "new_sheet": false,
                "run_control": {
                    "read_only": false
                }
            },
            "source": "In this notebook we try to practice all the classification algorithms that we learned in this course.\n\nWe load a dataset using Pandas library, and apply the following algorithms, and find the best one for this specific dataset by accuracy evaluation methods.\n\nLets first load required libraries:\n"
        },
        {
            "cell_type": "code",
            "execution_count": 75,
            "metadata": {
                "button": false,
                "new_sheet": false,
                "run_control": {
                    "read_only": false
                }
            },
            "outputs": [],
            "source": "import itertools\nimport numpy as np\nimport matplotlib.pyplot as plt\nfrom matplotlib.ticker import NullFormatter\nimport pandas as pd\nimport numpy as np\nimport matplotlib.ticker as ticker\nfrom sklearn import preprocessing\n%matplotlib inline"
        },
        {
            "cell_type": "markdown",
            "metadata": {
                "button": false,
                "new_sheet": false,
                "run_control": {
                    "read_only": false
                }
            },
            "source": "### About dataset\n"
        },
        {
            "cell_type": "markdown",
            "metadata": {
                "button": false,
                "new_sheet": false,
                "run_control": {
                    "read_only": false
                }
            },
            "source": "This dataset is about the performance of basketball teams. The **cbb.csv** data set includes performance data about five seasons of 354 basketball teams. It includes following fields:\n\n| Field      | Description                                                                                                                                                                                                                                                                                                                                                                                                                                                                                                                                                                                                                                                                                                                                                                                                                                                                    |\n| ---------- | ------------------------------------------------------------------------------------------------------------------------------------------------------------------------------------------------------------------------------------------------------------------------------------------------------------------------------------------------------------------------------------------------------------------------------------------------------------------------------------------------------------------------------------------------------------------------------------------------------------------------------------------------------------------------------------------------------------------------------------------------------------------------------------------------------------------------------------------------------------------------------ |\n| TEAM       | The Division I college basketball school                                                                                                                                                                                                                                                                                                                                                                                                                                                                                                                                                                                                                                                                                                                                                                                                                                       |\n| CONF       | The Athletic Conference in which the school participates in (A10 = Atlantic 10, ACC = Atlantic Coast Conference, AE = America East, Amer = American, ASun = ASUN, B10 = Big Ten, B12 = Big 12, BE = Big East, BSky = Big Sky, BSth = Big South, BW = Big West, CAA = Colonial Athletic Association, CUSA = Conference USA, Horz = Horizon League, Ivy = Ivy League, MAAC = Metro Atlantic Athletic Conference, MAC = Mid-American Conference, MEAC = Mid-Eastern Athletic Conference, MVC = Missouri Valley Conference, MWC = Mountain West, NEC = Northeast Conference, OVC = Ohio Valley Conference, P12 = Pac-12, Pat = Patriot League, SB = Sun Belt, SC = Southern Conference, SEC = South Eastern Conference, Slnd = Southland Conference, Sum = Summit League, SWAC = Southwestern Athletic Conference, WAC = Western Athletic Conference, WCC = West Coast Conference) |\n| G          | Number of games played                                                                                                                                                                                                                                                                                                                                                                                                                                                                                                                                                                                                                                                                                                                                                                                                                                                         |\n| W          | Number of games won                                                                                                                                                                                                                                                                                                                                                                                                                                                                                                                                                                                                                                                                                                                                                                                                                                                            |\n| ADJOE      | Adjusted Offensive Efficiency (An estimate of the offensive efficiency (points scored per 100 possessions) a team would have against the average Division I defense)                                                                                                                                                                                                                                                                                                                                                                                                                                                                                                                                                                                                                                                                                                           |\n| ADJDE      | Adjusted Defensive Efficiency (An estimate of the defensive efficiency (points allowed per 100 possessions) a team would have against the average Division I offense)                                                                                                                                                                                                                                                                                                                                                                                                                                                                                                                                                                                                                                                                                                          |\n| BARTHAG    | Power Rating (Chance of beating an average Division I team)                                                                                                                                                                                                                                                                                                                                                                                                                                                                                                                                                                                                                                                                                                                                                                                                                    |\n| EFG_O      | Effective Field Goal Percentage Shot                                                                                                                                                                                                                                                                                                                                                                                                                                                                                                                                                                                                                                                                                                                                                                                                                                           |\n| EFG_D      | Effective Field Goal Percentage Allowed                                                                                                                                                                                                                                                                                                                                                                                                                                                                                                                                                                                                                                                                                                                                                                                                                                        |\n| TOR        | Turnover Percentage Allowed (Turnover Rate)                                                                                                                                                                                                                                                                                                                                                                                                                                                                                                                                                                                                                                                                                                                                                                                                                                    |\n| TORD       | Turnover Percentage Committed (Steal Rate)                                                                                                                                                                                                                                                                                                                                                                                                                                                                                                                                                                                                                                                                                                                                                                                                                                     |\n| ORB        | Offensive Rebound Percentage                                                                                                                                                                                                                                                                                                                                                                                                                                                                                                                                                                                                                                                                                                                                                                                                                                                   |\n| DRB        | Defensive Rebound Percentage                                                                                                                                                                                                                                                                                                                                                                                                                                                                                                                                                                                                                                                                                                                                                                                                                                                   |\n| FTR        | Free Throw Rate (How often the given team shoots Free Throws)                                                                                                                                                                                                                                                                                                                                                                                                                                                                                                                                                                                                                                                                                                                                                                                                                  |\n| FTRD       | Free Throw Rate Allowed                                                                                                                                                                                                                                                                                                                                                                                                                                                                                                                                                                                                                                                                                                                                                                                                                                                        |\n| 2P_O       | Two-Point Shooting Percentage                                                                                                                                                                                                                                                                                                                                                                                                                                                                                                                                                                                                                                                                                                                                                                                                                                                  |\n| 2P_D       | Two-Point Shooting Percentage Allowed                                                                                                                                                                                                                                                                                                                                                                                                                                                                                                                                                                                                                                                                                                                                                                                                                                          |\n| 3P_O       | Three-Point Shooting Percentage                                                                                                                                                                                                                                                                                                                                                                                                                                                                                                                                                                                                                                                                                                                                                                                                                                                |\n| 3P_D       | Three-Point Shooting Percentage Allowed                                                                                                                                                                                                                                                                                                                                                                                                                                                                                                                                                                                                                                                                                                                                                                                                                                        |\n| ADJ_T      | Adjusted Tempo (An estimate of the tempo (possessions per 40 minutes) a team would have against the team that wants to play at an average Division I tempo)                                                                                                                                                                                                                                                                                                                                                                                                                                                                                                                                                                                                                                                                                                                    |\n| WAB        | Wins Above Bubble (The bubble refers to the cut off between making the NCAA March Madness Tournament and not making it)                                                                                                                                                                                                                                                                                                                                                                                                                                                                                                                                                                                                                                                                                                                                                        |\n| POSTSEASON | Round where the given team was eliminated or where their season ended (R68 = First Four, R64 = Round of 64, R32 = Round of 32, S16 = Sweet Sixteen, E8 = Elite Eight, F4 = Final Four, 2ND = Runner-up, Champion = Winner of the NCAA March Madness Tournament for that given year)                                                                                                                                                                                                                                                                                                                                                                                                                                                                                                                                                                                            |\n| SEED       | Seed in the NCAA March Madness Tournament                                                                                                                                                                                                                                                                                                                                                                                                                                                                                                                                                                                                                                                                                                                                                                                                                                      |\n| YEAR       | Season                                                                                                                                                                                                                                                                                                                                                                                                                                                                                                                                                                                                                                                                                                                                                                                                                                                                         |\n"
        },
        {
            "cell_type": "markdown",
            "metadata": {
                "button": false,
                "new_sheet": false,
                "run_control": {
                    "read_only": false
                }
            },
            "source": "### Load Data From CSV File\n"
        },
        {
            "cell_type": "markdown",
            "metadata": {
                "button": false,
                "new_sheet": false,
                "run_control": {
                    "read_only": false
                }
            },
            "source": "Let's load the dataset [NB Need to provide link to csv file]\n"
        },
        {
            "cell_type": "code",
            "execution_count": 76,
            "metadata": {
                "button": false,
                "new_sheet": false,
                "run_control": {
                    "read_only": false
                }
            },
            "outputs": [
                {
                    "data": {
                        "text/html": "<div>\n<style scoped>\n    .dataframe tbody tr th:only-of-type {\n        vertical-align: middle;\n    }\n\n    .dataframe tbody tr th {\n        vertical-align: top;\n    }\n\n    .dataframe thead th {\n        text-align: right;\n    }\n</style>\n<table border=\"1\" class=\"dataframe\">\n  <thead>\n    <tr style=\"text-align: right;\">\n      <th></th>\n      <th>TEAM</th>\n      <th>CONF</th>\n      <th>G</th>\n      <th>W</th>\n      <th>ADJOE</th>\n      <th>ADJDE</th>\n      <th>BARTHAG</th>\n      <th>EFG_O</th>\n      <th>EFG_D</th>\n      <th>TOR</th>\n      <th>...</th>\n      <th>FTRD</th>\n      <th>2P_O</th>\n      <th>2P_D</th>\n      <th>3P_O</th>\n      <th>3P_D</th>\n      <th>ADJ_T</th>\n      <th>WAB</th>\n      <th>POSTSEASON</th>\n      <th>SEED</th>\n      <th>YEAR</th>\n    </tr>\n  </thead>\n  <tbody>\n    <tr>\n      <th>0</th>\n      <td>North Carolina</td>\n      <td>ACC</td>\n      <td>40</td>\n      <td>33</td>\n      <td>123.3</td>\n      <td>94.9</td>\n      <td>0.9531</td>\n      <td>52.6</td>\n      <td>48.1</td>\n      <td>15.4</td>\n      <td>...</td>\n      <td>30.4</td>\n      <td>53.9</td>\n      <td>44.6</td>\n      <td>32.7</td>\n      <td>36.2</td>\n      <td>71.7</td>\n      <td>8.6</td>\n      <td>2ND</td>\n      <td>1.0</td>\n      <td>2016</td>\n    </tr>\n    <tr>\n      <th>1</th>\n      <td>Villanova</td>\n      <td>BE</td>\n      <td>40</td>\n      <td>35</td>\n      <td>123.1</td>\n      <td>90.9</td>\n      <td>0.9703</td>\n      <td>56.1</td>\n      <td>46.7</td>\n      <td>16.3</td>\n      <td>...</td>\n      <td>30.0</td>\n      <td>57.4</td>\n      <td>44.1</td>\n      <td>36.2</td>\n      <td>33.9</td>\n      <td>66.7</td>\n      <td>8.9</td>\n      <td>Champions</td>\n      <td>2.0</td>\n      <td>2016</td>\n    </tr>\n    <tr>\n      <th>2</th>\n      <td>Notre Dame</td>\n      <td>ACC</td>\n      <td>36</td>\n      <td>24</td>\n      <td>118.3</td>\n      <td>103.3</td>\n      <td>0.8269</td>\n      <td>54.0</td>\n      <td>49.5</td>\n      <td>15.3</td>\n      <td>...</td>\n      <td>26.0</td>\n      <td>52.9</td>\n      <td>46.5</td>\n      <td>37.4</td>\n      <td>36.9</td>\n      <td>65.5</td>\n      <td>2.3</td>\n      <td>E8</td>\n      <td>6.0</td>\n      <td>2016</td>\n    </tr>\n    <tr>\n      <th>3</th>\n      <td>Virginia</td>\n      <td>ACC</td>\n      <td>37</td>\n      <td>29</td>\n      <td>119.9</td>\n      <td>91.0</td>\n      <td>0.9600</td>\n      <td>54.8</td>\n      <td>48.4</td>\n      <td>15.1</td>\n      <td>...</td>\n      <td>33.4</td>\n      <td>52.6</td>\n      <td>46.3</td>\n      <td>40.3</td>\n      <td>34.7</td>\n      <td>61.9</td>\n      <td>8.6</td>\n      <td>E8</td>\n      <td>1.0</td>\n      <td>2016</td>\n    </tr>\n    <tr>\n      <th>4</th>\n      <td>Kansas</td>\n      <td>B12</td>\n      <td>37</td>\n      <td>32</td>\n      <td>120.9</td>\n      <td>90.4</td>\n      <td>0.9662</td>\n      <td>55.7</td>\n      <td>45.1</td>\n      <td>17.8</td>\n      <td>...</td>\n      <td>37.3</td>\n      <td>52.7</td>\n      <td>43.4</td>\n      <td>41.3</td>\n      <td>32.5</td>\n      <td>70.1</td>\n      <td>11.6</td>\n      <td>E8</td>\n      <td>1.0</td>\n      <td>2016</td>\n    </tr>\n  </tbody>\n</table>\n<p>5 rows \u00d7 24 columns</p>\n</div>",
                        "text/plain": "             TEAM CONF   G   W  ADJOE  ADJDE  BARTHAG  EFG_O  EFG_D   TOR  \\\n0  North Carolina  ACC  40  33  123.3   94.9   0.9531   52.6   48.1  15.4   \n1       Villanova   BE  40  35  123.1   90.9   0.9703   56.1   46.7  16.3   \n2      Notre Dame  ACC  36  24  118.3  103.3   0.8269   54.0   49.5  15.3   \n3        Virginia  ACC  37  29  119.9   91.0   0.9600   54.8   48.4  15.1   \n4          Kansas  B12  37  32  120.9   90.4   0.9662   55.7   45.1  17.8   \n\n   ...  FTRD  2P_O  2P_D  3P_O  3P_D  ADJ_T   WAB  POSTSEASON  SEED  YEAR  \n0  ...  30.4  53.9  44.6  32.7  36.2   71.7   8.6         2ND   1.0  2016  \n1  ...  30.0  57.4  44.1  36.2  33.9   66.7   8.9   Champions   2.0  2016  \n2  ...  26.0  52.9  46.5  37.4  36.9   65.5   2.3          E8   6.0  2016  \n3  ...  33.4  52.6  46.3  40.3  34.7   61.9   8.6          E8   1.0  2016  \n4  ...  37.3  52.7  43.4  41.3  32.5   70.1  11.6          E8   1.0  2016  \n\n[5 rows x 24 columns]"
                    },
                    "execution_count": 76,
                    "metadata": {},
                    "output_type": "execute_result"
                }
            ],
            "source": "df = pd.read_csv('https://s3-api.us-geo.objectstorage.softlayer.net/cf-courses-data/CognitiveClass/ML0120ENv3/Dataset/ML0101EN_EDX_skill_up/cbb.csv')\ndf.head()"
        },
        {
            "cell_type": "code",
            "execution_count": 4,
            "metadata": {},
            "outputs": [
                {
                    "data": {
                        "text/plain": "(1406, 24)"
                    },
                    "execution_count": 4,
                    "metadata": {},
                    "output_type": "execute_result"
                }
            ],
            "source": "df.shape"
        },
        {
            "cell_type": "markdown",
            "metadata": {},
            "source": "## Add Column\n\nNext we'll add a column that will contain \"true\" if the wins above bubble are over 7 and \"false\" if not. We'll call this column Win Index or \"windex\" for short. \n"
        },
        {
            "cell_type": "code",
            "execution_count": 77,
            "metadata": {},
            "outputs": [],
            "source": "df['windex'] = np.where(df.WAB > 7, 'True', 'False')"
        },
        {
            "cell_type": "markdown",
            "metadata": {
                "button": false,
                "new_sheet": false,
                "run_control": {
                    "read_only": false
                }
            },
            "source": "# Data visualization and pre-processing\n"
        },
        {
            "cell_type": "markdown",
            "metadata": {
                "button": false,
                "new_sheet": false,
                "run_control": {
                    "read_only": false
                }
            },
            "source": "Next we'll filter the data set to the teams that made the Sweet Sixteen, the Elite Eight, and the Final Four in the post season. We'll also create a new dataframe that will hold the values with the new column.\n"
        },
        {
            "cell_type": "code",
            "execution_count": 78,
            "metadata": {},
            "outputs": [
                {
                    "data": {
                        "text/html": "<div>\n<style scoped>\n    .dataframe tbody tr th:only-of-type {\n        vertical-align: middle;\n    }\n\n    .dataframe tbody tr th {\n        vertical-align: top;\n    }\n\n    .dataframe thead th {\n        text-align: right;\n    }\n</style>\n<table border=\"1\" class=\"dataframe\">\n  <thead>\n    <tr style=\"text-align: right;\">\n      <th></th>\n      <th>TEAM</th>\n      <th>CONF</th>\n      <th>G</th>\n      <th>W</th>\n      <th>ADJOE</th>\n      <th>ADJDE</th>\n      <th>BARTHAG</th>\n      <th>EFG_O</th>\n      <th>EFG_D</th>\n      <th>TOR</th>\n      <th>...</th>\n      <th>2P_O</th>\n      <th>2P_D</th>\n      <th>3P_O</th>\n      <th>3P_D</th>\n      <th>ADJ_T</th>\n      <th>WAB</th>\n      <th>POSTSEASON</th>\n      <th>SEED</th>\n      <th>YEAR</th>\n      <th>windex</th>\n    </tr>\n  </thead>\n  <tbody>\n    <tr>\n      <th>2</th>\n      <td>Notre Dame</td>\n      <td>ACC</td>\n      <td>36</td>\n      <td>24</td>\n      <td>118.3</td>\n      <td>103.3</td>\n      <td>0.8269</td>\n      <td>54.0</td>\n      <td>49.5</td>\n      <td>15.3</td>\n      <td>...</td>\n      <td>52.9</td>\n      <td>46.5</td>\n      <td>37.4</td>\n      <td>36.9</td>\n      <td>65.5</td>\n      <td>2.3</td>\n      <td>E8</td>\n      <td>6.0</td>\n      <td>2016</td>\n      <td>False</td>\n    </tr>\n    <tr>\n      <th>3</th>\n      <td>Virginia</td>\n      <td>ACC</td>\n      <td>37</td>\n      <td>29</td>\n      <td>119.9</td>\n      <td>91.0</td>\n      <td>0.9600</td>\n      <td>54.8</td>\n      <td>48.4</td>\n      <td>15.1</td>\n      <td>...</td>\n      <td>52.6</td>\n      <td>46.3</td>\n      <td>40.3</td>\n      <td>34.7</td>\n      <td>61.9</td>\n      <td>8.6</td>\n      <td>E8</td>\n      <td>1.0</td>\n      <td>2016</td>\n      <td>True</td>\n    </tr>\n    <tr>\n      <th>4</th>\n      <td>Kansas</td>\n      <td>B12</td>\n      <td>37</td>\n      <td>32</td>\n      <td>120.9</td>\n      <td>90.4</td>\n      <td>0.9662</td>\n      <td>55.7</td>\n      <td>45.1</td>\n      <td>17.8</td>\n      <td>...</td>\n      <td>52.7</td>\n      <td>43.4</td>\n      <td>41.3</td>\n      <td>32.5</td>\n      <td>70.1</td>\n      <td>11.6</td>\n      <td>E8</td>\n      <td>1.0</td>\n      <td>2016</td>\n      <td>True</td>\n    </tr>\n  </tbody>\n</table>\n<p>3 rows \u00d7 25 columns</p>\n</div>",
                        "text/plain": "         TEAM CONF   G   W  ADJOE  ADJDE  BARTHAG  EFG_O  EFG_D   TOR  ...  \\\n2  Notre Dame  ACC  36  24  118.3  103.3   0.8269   54.0   49.5  15.3  ...   \n3    Virginia  ACC  37  29  119.9   91.0   0.9600   54.8   48.4  15.1  ...   \n4      Kansas  B12  37  32  120.9   90.4   0.9662   55.7   45.1  17.8  ...   \n\n   2P_O  2P_D  3P_O  3P_D  ADJ_T   WAB  POSTSEASON  SEED  YEAR  windex  \n2  52.9  46.5  37.4  36.9   65.5   2.3          E8   6.0  2016   False  \n3  52.6  46.3  40.3  34.7   61.9   8.6          E8   1.0  2016    True  \n4  52.7  43.4  41.3  32.5   70.1  11.6          E8   1.0  2016    True  \n\n[3 rows x 25 columns]"
                    },
                    "execution_count": 78,
                    "metadata": {},
                    "output_type": "execute_result"
                }
            ],
            "source": "df1 = df.loc[df['POSTSEASON'].str.contains('F4|S16|E8', na=False)]\ndf1.head(3)"
        },
        {
            "cell_type": "code",
            "execution_count": 79,
            "metadata": {
                "button": false,
                "new_sheet": false,
                "run_control": {
                    "read_only": false
                }
            },
            "outputs": [
                {
                    "data": {
                        "text/plain": "S16    32\nE8     16\nF4      8\nName: POSTSEASON, dtype: int64"
                    },
                    "execution_count": 79,
                    "metadata": {},
                    "output_type": "execute_result"
                }
            ],
            "source": "df1['POSTSEASON'].value_counts()"
        },
        {
            "cell_type": "markdown",
            "metadata": {
                "button": false,
                "new_sheet": false,
                "run_control": {
                    "read_only": false
                }
            },
            "source": "32 teams made it into the Sweet Sixteen, 16 into the Elite Eight, and 8 made it into the Final Four over 5 seasons. \n"
        },
        {
            "cell_type": "markdown",
            "metadata": {},
            "source": "Lets plot some columns to underestand data better:\n"
        },
        {
            "cell_type": "code",
            "execution_count": 115,
            "metadata": {},
            "outputs": [],
            "source": "# notice: installing seaborn might takes a few minutes\n!conda install -c anaconda seaborn -y"
        },
        {
            "cell_type": "code",
            "execution_count": 10,
            "metadata": {},
            "outputs": [
                {
                    "data": {
                        "image/png": "[encoded data removed]",
                        "text/plain": "<Figure size 1296x216 with 2 Axes>"
                    },
                    "metadata": {
                        "needs_background": "light"
                    },
                    "output_type": "display_data"
                }
            ],
            "source": "import seaborn as sns\n\nbins = np.linspace(df1.BARTHAG.min(), df1.BARTHAG.max(), 10)\ng = sns.FacetGrid(df1, col=\"windex\", hue=\"POSTSEASON\", palette=\"Set1\", col_wrap=6)\ng.map(plt.hist, 'BARTHAG', bins=bins, ec=\"k\")\n\ng.axes[-1].legend()\nplt.show()"
        },
        {
            "cell_type": "code",
            "execution_count": 11,
            "metadata": {
                "button": false,
                "new_sheet": false,
                "run_control": {
                    "read_only": false
                }
            },
            "outputs": [
                {
                    "data": {
                        "image/png": "[encoded data removed]",
                        "text/plain": "<Figure size 432x216 with 2 Axes>"
                    },
                    "metadata": {
                        "needs_background": "light"
                    },
                    "output_type": "display_data"
                }
            ],
            "source": "bins = np.linspace(df1.ADJOE.min(), df1.ADJOE.max(), 10)\ng = sns.FacetGrid(df1, col=\"windex\", hue=\"POSTSEASON\", palette=\"Set1\", col_wrap=2)\ng.map(plt.hist, 'ADJOE', bins=bins, ec=\"k\")\n\ng.axes[-1].legend()\nplt.show()"
        },
        {
            "cell_type": "markdown",
            "metadata": {
                "button": false,
                "new_sheet": false,
                "run_control": {
                    "read_only": false
                }
            },
            "source": "# Pre-processing:  Feature selection/extraction\n"
        },
        {
            "cell_type": "markdown",
            "metadata": {
                "button": false,
                "new_sheet": false,
                "run_control": {
                    "read_only": false
                }
            },
            "source": "### Lets look at how Adjusted Defense Efficiency plots\n"
        },
        {
            "cell_type": "code",
            "execution_count": 12,
            "metadata": {
                "button": false,
                "new_sheet": false,
                "run_control": {
                    "read_only": false
                }
            },
            "outputs": [
                {
                    "data": {
                        "image/png": "[encoded data removed]",
                        "text/plain": "<Figure size 432x216 with 2 Axes>"
                    },
                    "metadata": {
                        "needs_background": "light"
                    },
                    "output_type": "display_data"
                }
            ],
            "source": "bins = np.linspace(df1.ADJDE.min(), df1.ADJDE.max(), 10)\ng = sns.FacetGrid(df1, col=\"windex\", hue=\"POSTSEASON\", palette=\"Set1\", col_wrap=2)\ng.map(plt.hist, 'ADJDE', bins=bins, ec=\"k\")\ng.axes[-1].legend()\nplt.show()\n"
        },
        {
            "cell_type": "markdown",
            "metadata": {
                "button": false,
                "new_sheet": false,
                "run_control": {
                    "read_only": false
                }
            },
            "source": "We see that this data point doesn't impact the ability of a team to get into the Final Four. \n"
        },
        {
            "cell_type": "markdown",
            "metadata": {
                "button": false,
                "new_sheet": false,
                "run_control": {
                    "read_only": false
                }
            },
            "source": "## Convert Categorical features to numerical values\n"
        },
        {
            "cell_type": "markdown",
            "metadata": {
                "button": false,
                "new_sheet": false,
                "run_control": {
                    "read_only": false
                }
            },
            "source": "Lets look at the postseason:\n"
        },
        {
            "cell_type": "code",
            "execution_count": 81,
            "metadata": {
                "button": false,
                "new_sheet": false,
                "run_control": {
                    "read_only": false
                }
            },
            "outputs": [
                {
                    "data": {
                        "text/plain": "windex  POSTSEASON\nFalse   S16           0.605263\n        E8            0.263158\n        F4            0.131579\nTrue    S16           0.500000\n        E8            0.333333\n        F4            0.166667\nName: POSTSEASON, dtype: float64"
                    },
                    "execution_count": 81,
                    "metadata": {},
                    "output_type": "execute_result"
                }
            ],
            "source": "df1.groupby(['windex'])['POSTSEASON'].value_counts(normalize=True)"
        },
        {
            "cell_type": "markdown",
            "metadata": {
                "button": false,
                "new_sheet": false,
                "run_control": {
                    "read_only": false
                }
            },
            "source": "13% of teams with 6 or less wins above bubble make it into the final four while 17% of teams with 7 or more do.\n"
        },
        {
            "cell_type": "markdown",
            "metadata": {
                "button": false,
                "new_sheet": false,
                "run_control": {
                    "read_only": false
                }
            },
            "source": "Lets convert wins above bubble (winindex) under 7 to 0 and over 7 to 1:\n"
        },
        {
            "cell_type": "code",
            "execution_count": 82,
            "metadata": {
                "button": false,
                "new_sheet": false,
                "run_control": {
                    "read_only": false
                }
            },
            "outputs": [
                {
                    "name": "stdout",
                    "output_type": "stream",
                    "text": "2    False\n3     True\n4     True\nName: windex, dtype: object\n"
                },
                {
                    "name": "stderr",
                    "output_type": "stream",
                    "text": "/opt/conda/envs/Python-3.7-main/lib/python3.7/site-packages/pandas/core/generic.py:6746: SettingWithCopyWarning: \nA value is trying to be set on a copy of a slice from a DataFrame\n\nSee the caveats in the documentation: https://pandas.pydata.org/pandas-docs/stable/user_guide/indexing.html#returning-a-view-versus-a-copy\n  self._update_inplace(new_data)\n"
                },
                {
                    "data": {
                        "text/html": "<div>\n<style scoped>\n    .dataframe tbody tr th:only-of-type {\n        vertical-align: middle;\n    }\n\n    .dataframe tbody tr th {\n        vertical-align: top;\n    }\n\n    .dataframe thead th {\n        text-align: right;\n    }\n</style>\n<table border=\"1\" class=\"dataframe\">\n  <thead>\n    <tr style=\"text-align: right;\">\n      <th></th>\n      <th>TEAM</th>\n      <th>CONF</th>\n      <th>G</th>\n      <th>W</th>\n      <th>ADJOE</th>\n      <th>ADJDE</th>\n      <th>BARTHAG</th>\n      <th>EFG_O</th>\n      <th>EFG_D</th>\n      <th>TOR</th>\n      <th>...</th>\n      <th>2P_O</th>\n      <th>2P_D</th>\n      <th>3P_O</th>\n      <th>3P_D</th>\n      <th>ADJ_T</th>\n      <th>WAB</th>\n      <th>POSTSEASON</th>\n      <th>SEED</th>\n      <th>YEAR</th>\n      <th>windex</th>\n    </tr>\n  </thead>\n  <tbody>\n    <tr>\n      <th>2</th>\n      <td>Notre Dame</td>\n      <td>ACC</td>\n      <td>36</td>\n      <td>24</td>\n      <td>118.3</td>\n      <td>103.3</td>\n      <td>0.8269</td>\n      <td>54.0</td>\n      <td>49.5</td>\n      <td>15.3</td>\n      <td>...</td>\n      <td>52.9</td>\n      <td>46.5</td>\n      <td>37.4</td>\n      <td>36.9</td>\n      <td>65.5</td>\n      <td>2.3</td>\n      <td>E8</td>\n      <td>6.0</td>\n      <td>2016</td>\n      <td>0</td>\n    </tr>\n    <tr>\n      <th>3</th>\n      <td>Virginia</td>\n      <td>ACC</td>\n      <td>37</td>\n      <td>29</td>\n      <td>119.9</td>\n      <td>91.0</td>\n      <td>0.9600</td>\n      <td>54.8</td>\n      <td>48.4</td>\n      <td>15.1</td>\n      <td>...</td>\n      <td>52.6</td>\n      <td>46.3</td>\n      <td>40.3</td>\n      <td>34.7</td>\n      <td>61.9</td>\n      <td>8.6</td>\n      <td>E8</td>\n      <td>1.0</td>\n      <td>2016</td>\n      <td>1</td>\n    </tr>\n    <tr>\n      <th>4</th>\n      <td>Kansas</td>\n      <td>B12</td>\n      <td>37</td>\n      <td>32</td>\n      <td>120.9</td>\n      <td>90.4</td>\n      <td>0.9662</td>\n      <td>55.7</td>\n      <td>45.1</td>\n      <td>17.8</td>\n      <td>...</td>\n      <td>52.7</td>\n      <td>43.4</td>\n      <td>41.3</td>\n      <td>32.5</td>\n      <td>70.1</td>\n      <td>11.6</td>\n      <td>E8</td>\n      <td>1.0</td>\n      <td>2016</td>\n      <td>1</td>\n    </tr>\n  </tbody>\n</table>\n<p>3 rows \u00d7 25 columns</p>\n</div>",
                        "text/plain": "         TEAM CONF   G   W  ADJOE  ADJDE  BARTHAG  EFG_O  EFG_D   TOR  ...  \\\n2  Notre Dame  ACC  36  24  118.3  103.3   0.8269   54.0   49.5  15.3  ...   \n3    Virginia  ACC  37  29  119.9   91.0   0.9600   54.8   48.4  15.1  ...   \n4      Kansas  B12  37  32  120.9   90.4   0.9662   55.7   45.1  17.8  ...   \n\n   2P_O  2P_D  3P_O  3P_D  ADJ_T   WAB  POSTSEASON  SEED  YEAR  windex  \n2  52.9  46.5  37.4  36.9   65.5   2.3          E8   6.0  2016       0  \n3  52.6  46.3  40.3  34.7   61.9   8.6          E8   1.0  2016       1  \n4  52.7  43.4  41.3  32.5   70.1  11.6          E8   1.0  2016       1  \n\n[3 rows x 25 columns]"
                    },
                    "execution_count": 82,
                    "metadata": {},
                    "output_type": "execute_result"
                }
            ],
            "source": "print(df1['windex'].head(3))\n# you can only run this one, it throws an error if windex is already 0's and 1's\ndf1['windex'].replace(to_replace=['False','True'], value=[0,1],inplace=True)\ndf1.head(3)"
        },
        {
            "cell_type": "markdown",
            "metadata": {
                "button": false,
                "new_sheet": false,
                "run_control": {
                    "read_only": false
                }
            },
            "source": "### Feature selection\n"
        },
        {
            "cell_type": "markdown",
            "metadata": {
                "button": false,
                "new_sheet": false,
                "run_control": {
                    "read_only": false
                }
            },
            "source": "Lets defind feature sets, X:\n"
        },
        {
            "cell_type": "code",
            "execution_count": 83,
            "metadata": {
                "button": false,
                "new_sheet": false,
                "run_control": {
                    "read_only": false
                }
            },
            "outputs": [
                {
                    "data": {
                        "text/html": "<div>\n<style scoped>\n    .dataframe tbody tr th:only-of-type {\n        vertical-align: middle;\n    }\n\n    .dataframe tbody tr th {\n        vertical-align: top;\n    }\n\n    .dataframe thead th {\n        text-align: right;\n    }\n</style>\n<table border=\"1\" class=\"dataframe\">\n  <thead>\n    <tr style=\"text-align: right;\">\n      <th></th>\n      <th>G</th>\n      <th>W</th>\n      <th>ADJOE</th>\n      <th>ADJDE</th>\n      <th>BARTHAG</th>\n      <th>EFG_O</th>\n      <th>EFG_D</th>\n      <th>TOR</th>\n      <th>TORD</th>\n      <th>ORB</th>\n      <th>...</th>\n      <th>FTR</th>\n      <th>FTRD</th>\n      <th>2P_O</th>\n      <th>2P_D</th>\n      <th>3P_O</th>\n      <th>3P_D</th>\n      <th>ADJ_T</th>\n      <th>WAB</th>\n      <th>SEED</th>\n      <th>windex</th>\n    </tr>\n  </thead>\n  <tbody>\n    <tr>\n      <th>2</th>\n      <td>36</td>\n      <td>24</td>\n      <td>118.3</td>\n      <td>103.3</td>\n      <td>0.8269</td>\n      <td>54.0</td>\n      <td>49.5</td>\n      <td>15.3</td>\n      <td>14.8</td>\n      <td>32.7</td>\n      <td>...</td>\n      <td>32.9</td>\n      <td>26.0</td>\n      <td>52.9</td>\n      <td>46.5</td>\n      <td>37.4</td>\n      <td>36.9</td>\n      <td>65.5</td>\n      <td>2.3</td>\n      <td>6.0</td>\n      <td>0</td>\n    </tr>\n    <tr>\n      <th>3</th>\n      <td>37</td>\n      <td>29</td>\n      <td>119.9</td>\n      <td>91.0</td>\n      <td>0.9600</td>\n      <td>54.8</td>\n      <td>48.4</td>\n      <td>15.1</td>\n      <td>18.8</td>\n      <td>29.9</td>\n      <td>...</td>\n      <td>32.1</td>\n      <td>33.4</td>\n      <td>52.6</td>\n      <td>46.3</td>\n      <td>40.3</td>\n      <td>34.7</td>\n      <td>61.9</td>\n      <td>8.6</td>\n      <td>1.0</td>\n      <td>1</td>\n    </tr>\n  </tbody>\n</table>\n<p>2 rows \u00d7 21 columns</p>\n</div>",
                        "text/plain": "    G   W  ADJOE  ADJDE  BARTHAG  EFG_O  EFG_D   TOR  TORD   ORB  ...   FTR  \\\n2  36  24  118.3  103.3   0.8269   54.0   49.5  15.3  14.8  32.7  ...  32.9   \n3  37  29  119.9   91.0   0.9600   54.8   48.4  15.1  18.8  29.9  ...  32.1   \n\n   FTRD  2P_O  2P_D  3P_O  3P_D  ADJ_T  WAB  SEED  windex  \n2  26.0  52.9  46.5  37.4  36.9   65.5  2.3   6.0       0  \n3  33.4  52.6  46.3  40.3  34.7   61.9  8.6   1.0       1  \n\n[2 rows x 21 columns]"
                    },
                    "execution_count": 83,
                    "metadata": {},
                    "output_type": "execute_result"
                }
            ],
            "source": "X = df1[['G', 'W', 'ADJOE', 'ADJDE', 'BARTHAG', 'EFG_O', 'EFG_D',\n       'TOR', 'TORD', 'ORB', 'DRB', 'FTR', 'FTRD', '2P_O', '2P_D', '3P_O',\n       '3P_D', 'ADJ_T', 'WAB', 'SEED', 'windex']]\nX[0:2]"
        },
        {
            "cell_type": "markdown",
            "metadata": {
                "button": false,
                "new_sheet": false,
                "run_control": {
                    "read_only": false
                }
            },
            "source": "What are our lables? Round where the given team was eliminated or where their season ended (R68 = First Four, R64 = Round of 64, R32 = Round of 32, S16 = Sweet Sixteen, E8 = Elite Eight, F4 = Final Four, 2ND = Runner-up, Champion = Winner of the NCAA March Madness Tournament for that given year)|\n"
        },
        {
            "cell_type": "code",
            "execution_count": 84,
            "metadata": {
                "button": false,
                "new_sheet": false,
                "run_control": {
                    "read_only": false
                }
            },
            "outputs": [
                {
                    "data": {
                        "text/plain": "array(['E8', 'E8', 'E8', 'E8', 'F4'], dtype=object)"
                    },
                    "execution_count": 84,
                    "metadata": {},
                    "output_type": "execute_result"
                }
            ],
            "source": "y = df1['POSTSEASON'].values\ny[0:5]"
        },
        {
            "cell_type": "markdown",
            "metadata": {
                "button": false,
                "new_sheet": false,
                "run_control": {
                    "read_only": false
                }
            },
            "source": "## Normalize Data\n"
        },
        {
            "cell_type": "markdown",
            "metadata": {
                "button": false,
                "new_sheet": false,
                "run_control": {
                    "read_only": false
                }
            },
            "source": "Data Standardization give data zero mean and unit variance (technically should be done after train test split )\n"
        },
        {
            "cell_type": "code",
            "execution_count": 85,
            "metadata": {
                "button": false,
                "new_sheet": false,
                "run_control": {
                    "read_only": false
                }
            },
            "outputs": [
                {
                    "data": {
                        "text/plain": "array([[-0.43331874, -1.26140173,  0.28034482,  2.74329908, -2.45717765,\n         0.10027963,  0.94171924, -1.16188145, -1.71391372,  0.12750511,\n         1.33368704, -0.4942211 , -0.87998988,  0.02784185,  0.00307239,\n         0.22576157,  1.59744386, -1.12106011, -1.0448016 ,  0.49716104,\n        -0.6882472 ]])"
                    },
                    "execution_count": 85,
                    "metadata": {},
                    "output_type": "execute_result"
                }
            ],
            "source": "X= preprocessing.StandardScaler().fit(X).transform(X)\nX[0:1]"
        },
        {
            "cell_type": "markdown",
            "metadata": {
                "button": false,
                "new_sheet": false,
                "run_control": {
                    "read_only": false
                }
            },
            "source": "## Training and Validation\n"
        },
        {
            "cell_type": "markdown",
            "metadata": {
                "button": false,
                "new_sheet": false,
                "run_control": {
                    "read_only": false
                }
            },
            "source": "Split the data into Training and Validation data.\n"
        },
        {
            "cell_type": "code",
            "execution_count": 86,
            "metadata": {
                "button": false,
                "new_sheet": false,
                "run_control": {
                    "read_only": false
                }
            },
            "outputs": [
                {
                    "name": "stdout",
                    "output_type": "stream",
                    "text": "Train set: (44, 21) (44,)\nValidation set: (12, 21) (12,)\n"
                }
            ],
            "source": "# We split the X into train and test to find the best k\nfrom sklearn.model_selection import train_test_split\nX_train, X_val, y_train, y_val = train_test_split(X, y, test_size=0.2, random_state=4)\nprint ('Train set:', X_train.shape,  y_train.shape)\nprint ('Validation set:', X_val.shape,  y_val.shape)"
        },
        {
            "cell_type": "markdown",
            "metadata": {
                "button": false,
                "new_sheet": false,
                "run_control": {
                    "read_only": false
                }
            },
            "source": "# Classification\n"
        },
        {
            "cell_type": "markdown",
            "metadata": {
                "button": false,
                "new_sheet": false,
                "run_control": {
                    "read_only": false
                }
            },
            "source": "Now, it is your turn, use the training set to build an accurate model. Then use the validation set  to report the accuracy of the model\nYou should use the following algorithm:\n\n-   K Nearest Neighbor(KNN)\n-   Decision Tree\n-   Support Vector Machine\n-   Logistic Regression\n"
        },
        {
            "cell_type": "markdown",
            "metadata": {},
            "source": "# K Nearest Neighbor(KNN)\n\n<b>Question  1 </b> Build a KNN model using a value of k equals five, find the accuracy on the validation data (X_val and y_val)\n"
        },
        {
            "cell_type": "markdown",
            "metadata": {},
            "source": "You can use <code> accuracy_score</cdoe>\n"
        },
        {
            "cell_type": "code",
            "execution_count": 87,
            "metadata": {},
            "outputs": [
                {
                    "name": "stdout",
                    "output_type": "stream",
                    "text": "Train set Accuracy:  0.6363636363636364\nValidation set Accuracy:  0.6666666666666666\n"
                }
            ],
            "source": "from sklearn.metrics import accuracy_score\nfrom sklearn.neighbors import KNeighborsClassifier\n\nk = 5\n#Train Model and Predict  \nneigh = KNeighborsClassifier(n_neighbors = k).fit(X_train,y_train)\n\nyhat = neigh.predict(X_val)\n\nprint(\"Train set Accuracy: \", accuracy_score(y_train, neigh.predict(X_train)))\nprint(\"Validation set Accuracy: \", accuracy_score(y_val, yhat))\n"
        },
        {
            "cell_type": "markdown",
            "metadata": {},
            "source": "<b>Question  2</b> Determine and print the accuracy for the first 15 values of k the on the validation data:\n"
        },
        {
            "cell_type": "code",
            "execution_count": 88,
            "metadata": {},
            "outputs": [
                {
                    "name": "stdout",
                    "output_type": "stream",
                    "text": "0.3333333333333333\n0.3333333333333333\n0.5\n0.5833333333333334\n0.6666666666666666\n0.5833333333333334\n0.5833333333333334\n0.6666666666666666\n0.5833333333333334\n0.5833333333333334\n0.5833333333333334\n0.5\n0.5833333333333334\n0.5833333333333334\n0.5833333333333334\n"
                }
            ],
            "source": "# print(\"Validation set Accuracy: \", accuracy_score(y_val[0:15], yhat[0:15]))\n\nfor k in range(1, 16):\n    neigh = KNeighborsClassifier(n_neighbors = k).fit(X_train,y_train)\n    yhat = neigh.predict(X_val)\n    print(accuracy_score(y_val, yhat))"
        },
        {
            "cell_type": "markdown",
            "metadata": {},
            "source": "# Decision Tree\n"
        },
        {
            "cell_type": "markdown",
            "metadata": {},
            "source": "The following lines of code fit a <code>DecisionTreeClassifier</code>:\n"
        },
        {
            "cell_type": "code",
            "execution_count": 89,
            "metadata": {},
            "outputs": [],
            "source": "from sklearn.tree import DecisionTreeClassifier"
        },
        {
            "cell_type": "markdown",
            "metadata": {},
            "source": "<b>Question  3</b> Determine the minumum   value for the parameter <code>max_depth</code> that improves results \n"
        },
        {
            "cell_type": "code",
            "execution_count": 90,
            "metadata": {},
            "outputs": [
                {
                    "name": "stdout",
                    "output_type": "stream",
                    "text": "1 is the minumum value for the parameter max_depth that improves results with an accuracy of 0.6666666666666666.\n"
                }
            ],
            "source": "score = []\nfor i in range(1, 1001):\n    F4Tree = DecisionTreeClassifier(criterion=\"entropy\", max_depth = i)\n    F4Tree.fit(X_train,y_train)\n    predTree = F4Tree.predict(X_val)\n    score.append(accuracy_score(y_val, predTree))\n\ntext = \" is the minumum value for the parameter max_depth that improves results with an accuracy of \"\n#print(\"DecisionTrees's Accuracy: \", metrics.accuracy_score(y_val, predTree))\nprint(score.index(max(score)) + 1, text, max(score), \".\", sep = '')"
        },
        {
            "cell_type": "markdown",
            "metadata": {},
            "source": "# Support Vector Machine\n"
        },
        {
            "cell_type": "markdown",
            "metadata": {},
            "source": "<b>Question  4</b>Train the support  vector machine model and determine the accuracy on the validation data for each kernel. Find the kernel (linear, poly, rbf, sigmoid) that provides the best score on the validation data and train a SVM using it.\n"
        },
        {
            "cell_type": "code",
            "execution_count": 91,
            "metadata": {},
            "outputs": [],
            "source": "from sklearn import svm"
        },
        {
            "cell_type": "code",
            "execution_count": 92,
            "metadata": {},
            "outputs": [],
            "source": "from sklearn.metrics import f1_score\nfrom sklearn.metrics import jaccard_score\n"
        },
        {
            "cell_type": "code",
            "execution_count": 93,
            "metadata": {},
            "outputs": [
                {
                    "name": "stdout",
                    "output_type": "stream",
                    "text": "Results for all kernels:\n    kernel        f1   jaccard  accuracy\n0   linear  0.242165  0.142045  0.250000\n1     poly  0.533333  0.444444  0.666667\n2      rbf  0.491228  0.388889  0.583333\n3  sigmoid  0.444444  0.333333  0.500000 \n\nThe kernel with the best score is 'poly' with an accuracy score of 0.6666666666666666\n"
                }
            ],
            "source": "pdf = pd.DataFrame(columns=['kernel', 'f1', 'jaccard', 'accuracy'])\nkernel = ['linear', 'poly', 'rbf', 'sigmoid']\n# Find the kernel (linear, poly, rbf, sigmoid) that provides the best score on the validation data\nfor k in kernel:\n    clf = svm.SVC(kernel = k, gamma = 'auto')\n    clf.fit(X_train, y_train) \n    yhat = clf.predict(X_val)\n    f1 = f1_score(y_val, yhat, average='weighted') \n    jaccard = jaccard_score(y_val, yhat, average = \"weighted\")\n    accuracy = accuracy_score(y_val, yhat)\n    new_row = {'kernel': k, 'f1': f1, 'jaccard': jaccard, 'accuracy': accuracy}\n    pdf.loc[len(pdf.index)] = [k, f1, jaccard, accuracy]\n\nprint('Results for all kernels:')\nprint(pdf, '\\n')\n\nmax_kernel = pdf.loc[pdf['f1'].idxmax()]\n\n# train a SVM using the best kernel\nclf_opt = svm.SVC(kernel = max_kernel[0], gamma = 'auto')\nclf_opt.fit(X_train, y_train) \nyhat_opt = clf_opt.predict(X_val)\nf1_opt = f1_score(y_val, yhat_opt, average='weighted')\naccuracy = accuracy_score(y_val, yhat_opt)\nprint('The kernel with the best score is \\'', max_kernel[0], \n      '\\' with an accuracy score of ', accuracy, sep = '')"
        },
        {
            "cell_type": "markdown",
            "metadata": {},
            "source": "# Logistic Regression\n"
        },
        {
            "cell_type": "markdown",
            "metadata": {},
            "source": "<b>Question 5</b> Train a logistic regression model and determine the accuracy of the validation data (set C=0.01)\n"
        },
        {
            "cell_type": "code",
            "execution_count": 94,
            "metadata": {},
            "outputs": [],
            "source": "from sklearn.linear_model import LogisticRegression"
        },
        {
            "cell_type": "code",
            "execution_count": 95,
            "metadata": {},
            "outputs": [
                {
                    "name": "stdout",
                    "output_type": "stream",
                    "text": "Logistic Regression\nAcurracy Score:  0.5833333333333334\nJaccard Score:  0.49074074074074076\n"
                }
            ],
            "source": "LR = LogisticRegression(C=0.01, solver='liblinear').fit(X_train,y_train)\n\nyhat = LR.predict(X_val)\n\n# predict_proba returns estimates for all classes\nyhat_prob = LR.predict_proba(X_val)\n\n# jaccard index\nfrom sklearn.metrics import jaccard_score\n\nprint(\"Logistic Regression\")\nprint(\"Acurracy Score: \", accuracy_score(y_val, yhat))\nprint(\"Jaccard Score: \", jaccard_score(y_val, yhat, average = 'weighted'))\n"
        },
        {
            "cell_type": "markdown",
            "metadata": {},
            "source": "# Model Evaluation using Test set\n"
        },
        {
            "cell_type": "code",
            "execution_count": 96,
            "metadata": {},
            "outputs": [],
            "source": "from sklearn.metrics import f1_score\n# for f1_score please set the average parameter to 'micro'\nfrom sklearn.metrics import log_loss"
        },
        {
            "cell_type": "code",
            "execution_count": 97,
            "metadata": {},
            "outputs": [],
            "source": "def jaccard_index(predictions, true):\n    if (len(predictions) == len(true)):\n        intersect = 0;\n        for x,y in zip(predictions, true):\n            if (x == y):\n                intersect += 1\n        return intersect / (len(predictions) + len(true) - intersect)\n    else:\n        return -1"
        },
        {
            "cell_type": "markdown",
            "metadata": {},
            "source": "<b>Question  5</b> Calculate the  F1 score and Jaccard Similarity score for each model from above. Use the Hyperparameter that performed best on the validation data. **For f1_score please set the average parameter to 'micro'.**\n"
        },
        {
            "cell_type": "markdown",
            "metadata": {
                "button": false,
                "new_sheet": false,
                "run_control": {
                    "read_only": false
                }
            },
            "source": "### Load Test set for evaluation\n"
        },
        {
            "cell_type": "code",
            "execution_count": 98,
            "metadata": {
                "button": false,
                "new_sheet": false,
                "run_control": {
                    "read_only": false
                }
            },
            "outputs": [
                {
                    "data": {
                        "text/html": "<div>\n<style scoped>\n    .dataframe tbody tr th:only-of-type {\n        vertical-align: middle;\n    }\n\n    .dataframe tbody tr th {\n        vertical-align: top;\n    }\n\n    .dataframe thead th {\n        text-align: right;\n    }\n</style>\n<table border=\"1\" class=\"dataframe\">\n  <thead>\n    <tr style=\"text-align: right;\">\n      <th></th>\n      <th>TEAM</th>\n      <th>CONF</th>\n      <th>G</th>\n      <th>W</th>\n      <th>ADJOE</th>\n      <th>ADJDE</th>\n      <th>BARTHAG</th>\n      <th>EFG_O</th>\n      <th>EFG_D</th>\n      <th>TOR</th>\n      <th>...</th>\n      <th>FTRD</th>\n      <th>2P_O</th>\n      <th>2P_D</th>\n      <th>3P_O</th>\n      <th>3P_D</th>\n      <th>ADJ_T</th>\n      <th>WAB</th>\n      <th>POSTSEASON</th>\n      <th>SEED</th>\n      <th>YEAR</th>\n    </tr>\n  </thead>\n  <tbody>\n    <tr>\n      <th>0</th>\n      <td>North Carolina</td>\n      <td>ACC</td>\n      <td>40</td>\n      <td>33</td>\n      <td>123.3</td>\n      <td>94.9</td>\n      <td>0.9531</td>\n      <td>52.6</td>\n      <td>48.1</td>\n      <td>15.4</td>\n      <td>...</td>\n      <td>30.4</td>\n      <td>53.9</td>\n      <td>44.6</td>\n      <td>32.7</td>\n      <td>36.2</td>\n      <td>71.7</td>\n      <td>8.6</td>\n      <td>2ND</td>\n      <td>1.0</td>\n      <td>2016</td>\n    </tr>\n    <tr>\n      <th>1</th>\n      <td>Villanova</td>\n      <td>BE</td>\n      <td>40</td>\n      <td>35</td>\n      <td>123.1</td>\n      <td>90.9</td>\n      <td>0.9703</td>\n      <td>56.1</td>\n      <td>46.7</td>\n      <td>16.3</td>\n      <td>...</td>\n      <td>30.0</td>\n      <td>57.4</td>\n      <td>44.1</td>\n      <td>36.2</td>\n      <td>33.9</td>\n      <td>66.7</td>\n      <td>8.9</td>\n      <td>Champions</td>\n      <td>2.0</td>\n      <td>2016</td>\n    </tr>\n    <tr>\n      <th>2</th>\n      <td>Notre Dame</td>\n      <td>ACC</td>\n      <td>36</td>\n      <td>24</td>\n      <td>118.3</td>\n      <td>103.3</td>\n      <td>0.8269</td>\n      <td>54.0</td>\n      <td>49.5</td>\n      <td>15.3</td>\n      <td>...</td>\n      <td>26.0</td>\n      <td>52.9</td>\n      <td>46.5</td>\n      <td>37.4</td>\n      <td>36.9</td>\n      <td>65.5</td>\n      <td>2.3</td>\n      <td>E8</td>\n      <td>6.0</td>\n      <td>2016</td>\n    </tr>\n  </tbody>\n</table>\n<p>3 rows \u00d7 24 columns</p>\n</div>",
                        "text/plain": "             TEAM CONF   G   W  ADJOE  ADJDE  BARTHAG  EFG_O  EFG_D   TOR  \\\n0  North Carolina  ACC  40  33  123.3   94.9   0.9531   52.6   48.1  15.4   \n1       Villanova   BE  40  35  123.1   90.9   0.9703   56.1   46.7  16.3   \n2      Notre Dame  ACC  36  24  118.3  103.3   0.8269   54.0   49.5  15.3   \n\n   ...  FTRD  2P_O  2P_D  3P_O  3P_D  ADJ_T  WAB  POSTSEASON  SEED  YEAR  \n0  ...  30.4  53.9  44.6  32.7  36.2   71.7  8.6         2ND   1.0  2016  \n1  ...  30.0  57.4  44.1  36.2  33.9   66.7  8.9   Champions   2.0  2016  \n2  ...  26.0  52.9  46.5  37.4  36.9   65.5  2.3          E8   6.0  2016  \n\n[3 rows x 24 columns]"
                    },
                    "execution_count": 98,
                    "metadata": {},
                    "output_type": "execute_result"
                }
            ],
            "source": "test_df = pd.read_csv('https://s3-api.us-geo.objectstorage.softlayer.net/cf-courses-data/CognitiveClass/ML0120ENv3/Dataset/ML0101EN_EDX_skill_up/basketball_train.csv',error_bad_lines=False)\ntest_df.head(3)"
        },
        {
            "cell_type": "code",
            "execution_count": 99,
            "metadata": {},
            "outputs": [
                {
                    "name": "stderr",
                    "output_type": "stream",
                    "text": "/opt/conda/envs/Python-3.7-main/lib/python3.7/site-packages/pandas/core/generic.py:6746: SettingWithCopyWarning: \nA value is trying to be set on a copy of a slice from a DataFrame\n\nSee the caveats in the documentation: https://pandas.pydata.org/pandas-docs/stable/user_guide/indexing.html#returning-a-view-versus-a-copy\n  self._update_inplace(new_data)\n"
                },
                {
                    "data": {
                        "text/plain": "array([[-0.40807445, -1.10135297,  0.33736593,  2.66479976, -2.46831661,\n         0.21370325,  0.94409055, -1.19216365, -1.64348924,  0.0145406 ,\n         1.29523097, -0.62353318, -0.93178856,  0.14278437,  0.1688762 ,\n         0.28450084,  1.62625961, -0.83664926, -0.99850054,  0.48431917,\n        -0.6770032 ],\n       [ 0.36395829,  0.32632681,  0.70314507, -0.71377864,  1.07370841,\n         0.48263317,  0.47749894, -1.32975879, -0.06861933, -0.73544815,\n        -1.35447914, -0.80682902,  0.34173776,  0.04966413,  0.09405763,\n         1.37214061,  0.69385462, -2.00860931,  0.98054997, -1.1940146 ,\n         1.47709789],\n       [ 0.36395829,  1.18293467,  0.93175703, -0.87858735,  1.23870131,\n         0.78517934, -0.92227588,  0.52777566, -0.18673457, -0.11938596,\n        -0.31763606,  0.6824497 ,  1.01292055,  0.08070421, -0.99081164,\n         1.7471888 , -0.23855037,  0.66085525,  1.92295497, -1.1940146 ,\n         1.47709789]])"
                    },
                    "execution_count": 99,
                    "metadata": {},
                    "output_type": "execute_result"
                }
            ],
            "source": "test_df['windex'] = np.where(test_df.WAB > 7, 'True', 'False')\ntest_df1 = test_df[test_df['POSTSEASON'].str.contains('F4|S16|E8', na=False)]\ntest_Feature = test_df1[['G', 'W', 'ADJOE', 'ADJDE', 'BARTHAG', 'EFG_O', 'EFG_D',\n       'TOR', 'TORD', 'ORB', 'DRB', 'FTR', 'FTRD', '2P_O', '2P_D', '3P_O',\n       '3P_D', 'ADJ_T', 'WAB', 'SEED', 'windex']]\ntest_Feature['windex'].replace(to_replace=['False','True'], value=[0,1],inplace=True)\ntest_X=test_Feature\ntest_X= preprocessing.StandardScaler().fit(test_X).transform(test_X)\ntest_X[0:3]"
        },
        {
            "cell_type": "code",
            "execution_count": 100,
            "metadata": {},
            "outputs": [
                {
                    "data": {
                        "text/plain": "array(['E8', 'E8', 'E8'], dtype=object)"
                    },
                    "execution_count": 100,
                    "metadata": {},
                    "output_type": "execute_result"
                }
            ],
            "source": "test_y = test_df1['POSTSEASON'].values\ntest_y[0:3]"
        },
        {
            "cell_type": "markdown",
            "metadata": {},
            "source": "KNN\n"
        },
        {
            "cell_type": "code",
            "execution_count": null,
            "metadata": {},
            "outputs": [],
            "source": "# Question 5 Calculate the F1 score and Jaccard Similarity score for each model from above. \n# Use the Hyperparameter that performed best on the validation data. \n# For f1_score please set the average parameter to 'micro'."
        },
        {
            "cell_type": "code",
            "execution_count": 101,
            "metadata": {},
            "outputs": [],
            "source": "from sklearn.metrics import accuracy_score\nfrom sklearn.neighbors import KNeighborsClassifier\nfrom sklearn.metrics import f1_score\nfrom sklearn.metrics import jaccard_score\nfrom sklearn.metrics import log_loss\n"
        },
        {
            "cell_type": "code",
            "execution_count": 110,
            "metadata": {},
            "outputs": [],
            "source": "pdf = pd.DataFrame(columns=['Algorith', 'Accuracy', 'Jacccard', 'F1-Score', 'LogLoss'])\n"
        },
        {
            "cell_type": "code",
            "execution_count": 111,
            "metadata": {},
            "outputs": [
                {
                    "name": "stdout",
                    "output_type": "stream",
                    "text": "  Algorith  Accuracy  Jacccard  F1-Score LogLoss\n0      KNN  0.628571  0.458333  0.628571    None\n"
                }
            ],
            "source": "\nk = 5\n#Train Model and Predict  \nneigh = KNeighborsClassifier(n_neighbors = k).fit(X_train,y_train)\n\nyhat_KNN = neigh.predict(test_X)\n\n# Calculate the F1 score and Jaccard Similarity score\nf1 = f1_score(test_y, yhat_KNN, average='micro') \njaccard = jaccard_score(test_y, yhat_KNN, average = \"micro\")\naccuracy = accuracy_score(test_y, yhat_KNN)\n\npdf.loc[len(pdf.index)] = ['KNN', accuracy, jaccard, f1, None]\nprint(pdf)\n\n#print(\"KNN validation set Accuracy: \")\n#print('f1 =', f1)\n#print('jaccard =', jaccard)"
        },
        {
            "cell_type": "markdown",
            "metadata": {},
            "source": "Decision Tree\n"
        },
        {
            "cell_type": "code",
            "execution_count": 112,
            "metadata": {},
            "outputs": [
                {
                    "name": "stdout",
                    "output_type": "stream",
                    "text": "        Algorith  Accuracy  Jacccard  F1-Score LogLoss\n0            KNN  0.628571  0.458333  0.628571    None\n1  Decision Tree  0.642857  0.473684  0.642857    None\n"
                }
            ],
            "source": "# Calculate the F1 score and Jaccard Similarity score\nF4Tree = DecisionTreeClassifier(criterion=\"entropy\", max_depth = 1)\nF4Tree.fit(X_train,y_train)\nyhat_Tree = F4Tree.predict(test_X)\n\n# Calculate the F1 score and Jaccard Similarity score\nf1 = f1_score(test_y, yhat_Tree, average='micro') \njaccard = jaccard_score(test_y, yhat_Tree, average = \"micro\")\naccuracy = accuracy_score(test_y, yhat_Tree)\n\n\npdf.loc[len(pdf.index)] = ['Decision Tree', accuracy, jaccard, f1, None]\nprint(pdf)\n\n\n#print(\"Decision Tree Accuracy: \")\n#print('f1 =', f1)\n#print('jaccard =', jaccard)"
        },
        {
            "cell_type": "markdown",
            "metadata": {},
            "source": "SVM\n"
        },
        {
            "cell_type": "code",
            "execution_count": 113,
            "metadata": {},
            "outputs": [
                {
                    "name": "stdout",
                    "output_type": "stream",
                    "text": "        Algorith  Accuracy  Jacccard  F1-Score LogLoss\n0            KNN  0.628571  0.458333  0.628571    None\n1  Decision Tree  0.642857  0.473684  0.642857    None\n2            SVM  0.685714  0.521739  0.685714    None\n"
                }
            ],
            "source": "clf_opt = svm.SVC(kernel = 'poly', gamma = 'auto')\nclf_opt.fit(X_train, y_train) \nyhat_opt = clf_opt.predict(test_X)\n\n# Calculate the F1 score and Jaccard Similarity score\nf1 = f1_score(test_y, yhat_opt, average='micro') \njaccard = jaccard_score(test_y, yhat_opt, average = \"micro\")\naccuracy = accuracy_score(test_y, yhat_opt)\n\npdf.loc[len(pdf.index)] = ['SVM', accuracy, jaccard, f1, None]\nprint(pdf)\n\n#print(\"SVM Accuracy: \")\n#print('f1 =', f1)\n#print('jaccard =', jaccard)"
        },
        {
            "cell_type": "markdown",
            "metadata": {},
            "source": "Logistic Regression\n"
        },
        {
            "cell_type": "code",
            "execution_count": 114,
            "metadata": {},
            "outputs": [
                {
                    "name": "stdout",
                    "output_type": "stream",
                    "text": "              Algorith  Accuracy  Jacccard  F1-Score  LogLoss\n0                  KNN  0.628571  0.458333  0.628571     None\n1        Decision Tree  0.642857  0.473684  0.642857     None\n2                  SVM  0.685714  0.521739  0.685714     None\n3  Logistic Regression  0.685714  0.521739  0.685714  1.03719\n"
                }
            ],
            "source": "LR = LogisticRegression(C=0.01, solver='liblinear').fit(X_train,y_train)\nyhat_LR = LR.predict(test_X)\n\n# predict_proba returns estimates for all classes\nyhat_prob = LR.predict_proba(test_X)\n\n# Calculate the F1 score and Jaccard Similarity score\nf1 = f1_score(test_y, yhat_LR, average='micro') \njaccard = jaccard_score(test_y, yhat_LR, average = \"micro\")\naccuracy = accuracy_score(test_y, yhat_LR)\nLL = log_loss(test_y, yhat_prob)\n\npdf.loc[len(pdf.index)] = ['Logistic Regression', accuracy, jaccard, f1, LL]\nprint(pdf)\n\n#print(\"Logistic Regression Accuracy: \")\n#print('f1 =', f1)\n#print('jaccard =', jaccard)\n#print('log loss =', LL)\n"
        },
        {
            "cell_type": "markdown",
            "metadata": {},
            "source": "# Report\n\nYou should be able to report the accuracy of the built model using different evaluation metrics:\n"
        },
        {
            "cell_type": "markdown",
            "metadata": {},
            "source": "| Algorithm          | Accuracy | Jaccard  | F1-score | LogLoss |\n| ------------------ | -------- | -------- | -------- | ------- |\n| KNN                | 0.628571 | 0.458333 | 0.628571 | NA      |\n| Decision Tree      | 0.642857 | 0.473684 | 0.642857 | NA      |\n| SVM                | 0.685714 | 0.521739 | 0.685714 | NA      |\n| LogisticRegression | 0.685714 | 0.521739 | 0.685714 | 1.03719 |\n"
        },
        {
            "cell_type": "markdown",
            "metadata": {},
            "source": "Something to keep in mind when creating models to predict the results of basketball tournaments or sports in general is that is quite hard due to so many factors influencing the game. Even in sports betting an accuracy of 55% and over is considered good as it indicates profits.\n"
        },
        {
            "cell_type": "markdown",
            "metadata": {
                "button": false,
                "new_sheet": false,
                "run_control": {
                    "read_only": false
                }
            },
            "source": "<h2>Want to learn more?</h2>\n\nIBM SPSS Modeler is a comprehensive analytics platform that has many machine learning algorithms. It has been designed to bring predictive intelligence to decisions made by individuals, by groups, by systems \u2013 by your enterprise as a whole. A free trial is available through this course, available here: <a href=\"https://www.ibm.com/analytics/spss-statistics-software\">SPSS Modeler</a>\n\nAlso, you can use Watson Studio to run these notebooks faster with bigger datasets. Watson Studio is IBM's leading cloud solution for data scientists, built by data scientists. With Jupyter notebooks, RStudio, Apache Spark and popular libraries pre-packaged in the cloud, Watson Studio enables data scientists to collaborate on their projects without having to install anything. Join the fast-growing community of Watson Studio users today with a free account at <a href=\"https://www.ibm.com/cloud/watson-studio\">Watson Studio</a>\n"
        },
        {
            "cell_type": "markdown",
            "metadata": {},
            "source": "### Thank you for completing this lab!\n\n## Author\n\nSaeed Aghabozorgi\n\n### Other Contributors\n\n<a href=\"https://www.linkedin.com/in/joseph-s-50398b136/\" target=\"_blank\">Joseph Santarcangelo</a>\n\n## Change Log\n\n| Date (YYYY-MM-DD) | Version | Changed By | Change Description                 |\n| ----------------- | ------- | ---------- | ---------------------------------- |\n| 2020-08-27        | 2.0     | Lavanya    | Moved lab to course repo in GitLab |\n|                   |         |            |                                    |\n|                   |         |            |                                    |\n\n## <h3 align=\"center\"> \u00a9 IBM Corporation 2020. All rights reserved. <h3/>\n"
        }
    ],
    "metadata": {
        "kernelspec": {
            "display_name": "Python 3.7",
            "language": "python",
            "name": "python3"
        },
        "language_info": {
            "codemirror_mode": {
                "name": "ipython",
                "version": 3
            },
            "file_extension": ".py",
            "mimetype": "text/x-python",
            "name": "python",
            "nbconvert_exporter": "python",
            "pygments_lexer": "ipython3",
            "version": "3.7.9"
        }
    },
    "nbformat": 4,
    "nbformat_minor": 4
}